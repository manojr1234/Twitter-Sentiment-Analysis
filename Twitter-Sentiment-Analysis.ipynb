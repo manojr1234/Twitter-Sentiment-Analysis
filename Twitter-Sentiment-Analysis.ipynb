{
 "cells": [
  {
   "cell_type": "markdown",
   "id": "aedb5eac",
   "metadata": {},
   "source": [
    "# Twitter Sentiment Analysis"
   ]
  },
  {
   "cell_type": "markdown",
   "id": "e348c9eb",
   "metadata": {},
   "source": [
    "# Step-1: Import the Necessary Dependencies"
   ]
  },
  {
   "cell_type": "code",
   "execution_count": 1,
   "id": "1817cc20",
   "metadata": {},
   "outputs": [
    {
     "name": "stdout",
     "output_type": "stream",
     "text": [
      "Requirement already satisfied: wordcloud in c:\\users\\manoj r\\anaconda3\\lib\\site-packages (1.9.2)Note: you may need to restart the kernel to use updated packages.\n",
      "Requirement already satisfied: numpy>=1.6.1 in c:\\users\\manoj r\\anaconda3\\lib\\site-packages (from wordcloud) (1.22.4)\n",
      "Requirement already satisfied: pillow in c:\\users\\manoj r\\anaconda3\\lib\\site-packages (from wordcloud) (9.0.1)\n",
      "Requirement already satisfied: matplotlib in c:\\users\\manoj r\\anaconda3\\lib\\site-packages (from wordcloud) (3.5.1)\n",
      "Requirement already satisfied: python-dateutil>=2.7 in c:\\users\\manoj r\\anaconda3\\lib\\site-packages (from matplotlib->wordcloud) (2.8.2)\n",
      "Requirement already satisfied: fonttools>=4.22.0 in c:\\users\\manoj r\\anaconda3\\lib\\site-packages (from matplotlib->wordcloud) (4.25.0)\n",
      "Requirement already satisfied: pyparsing>=2.2.1 in c:\\users\\manoj r\\anaconda3\\lib\\site-packages (from matplotlib->wordcloud) (3.0.4)\n",
      "Requirement already satisfied: cycler>=0.10 in c:\\users\\manoj r\\anaconda3\\lib\\site-packages (from matplotlib->wordcloud) (0.11.0)\n",
      "Requirement already satisfied: kiwisolver>=1.0.1 in c:\\users\\manoj r\\anaconda3\\lib\\site-packages (from matplotlib->wordcloud) (1.3.2)\n",
      "Requirement already satisfied: packaging>=20.0 in c:\\users\\manoj r\\anaconda3\\lib\\site-packages (from matplotlib->wordcloud) (21.3)\n",
      "Requirement already satisfied: six>=1.5 in c:\\users\\manoj r\\anaconda3\\lib\\site-packages (from python-dateutil>=2.7->matplotlib->wordcloud) (1.16.0)\n",
      "\n"
     ]
    }
   ],
   "source": [
    "pip install wordcloud"
   ]
  },
  {
   "cell_type": "code",
   "execution_count": 2,
   "id": "5ae98f29",
   "metadata": {},
   "outputs": [],
   "source": [
    "# utilities\n",
    "import re\n",
    "import numpy as np\n",
    "import pandas as pd\n",
    "# plotting\n",
    "import seaborn as sns\n",
    "from wordcloud import WordCloud\n",
    "import matplotlib.pyplot as plt\n",
    "# nltk\n",
    "from nltk.stem import WordNetLemmatizer\n",
    "# sklearn\n",
    "from sklearn.svm import LinearSVC\n",
    "from sklearn.naive_bayes import BernoulliNB\n",
    "from sklearn.linear_model import LogisticRegression\n",
    "from sklearn.model_selection import train_test_split\n",
    "from sklearn.feature_extraction.text import TfidfVectorizer\n",
    "from sklearn.metrics import confusion_matrix, classification_report"
   ]
  },
  {
   "cell_type": "markdown",
   "id": "8ca9e272",
   "metadata": {},
   "source": [
    "# Step-2: Read and Load the Dataset"
   ]
  },
  {
   "cell_type": "code",
   "execution_count": 3,
   "id": "068fbbbb",
   "metadata": {},
   "outputs": [
    {
     "data": {
      "text/html": [
       "<div>\n",
       "<style scoped>\n",
       "    .dataframe tbody tr th:only-of-type {\n",
       "        vertical-align: middle;\n",
       "    }\n",
       "\n",
       "    .dataframe tbody tr th {\n",
       "        vertical-align: top;\n",
       "    }\n",
       "\n",
       "    .dataframe thead th {\n",
       "        text-align: right;\n",
       "    }\n",
       "</style>\n",
       "<table border=\"1\" class=\"dataframe\">\n",
       "  <thead>\n",
       "    <tr style=\"text-align: right;\">\n",
       "      <th></th>\n",
       "      <th>target</th>\n",
       "      <th>ids</th>\n",
       "      <th>date</th>\n",
       "      <th>flag</th>\n",
       "      <th>user</th>\n",
       "      <th>text</th>\n",
       "    </tr>\n",
       "  </thead>\n",
       "  <tbody>\n",
       "    <tr>\n",
       "      <th>609349</th>\n",
       "      <td>0</td>\n",
       "      <td>2223680398</td>\n",
       "      <td>Thu Jun 18 08:34:45 PDT 2009</td>\n",
       "      <td>NO_QUERY</td>\n",
       "      <td>sicknastyalison</td>\n",
       "      <td>F on the final :/ F for the year. Helllllo sum...</td>\n",
       "    </tr>\n",
       "    <tr>\n",
       "      <th>1027017</th>\n",
       "      <td>4</td>\n",
       "      <td>1932380221</td>\n",
       "      <td>Tue May 26 21:21:08 PDT 2009</td>\n",
       "      <td>NO_QUERY</td>\n",
       "      <td>Nice_Kitty</td>\n",
       "      <td>doing my biology homeworkt  see you</td>\n",
       "    </tr>\n",
       "    <tr>\n",
       "      <th>1046390</th>\n",
       "      <td>4</td>\n",
       "      <td>1957660082</td>\n",
       "      <td>Fri May 29 01:11:42 PDT 2009</td>\n",
       "      <td>NO_QUERY</td>\n",
       "      <td>almayfield</td>\n",
       "      <td>is sitting at his computer eating a chicken an...</td>\n",
       "    </tr>\n",
       "    <tr>\n",
       "      <th>954353</th>\n",
       "      <td>4</td>\n",
       "      <td>1824825260</td>\n",
       "      <td>Sun May 17 03:06:03 PDT 2009</td>\n",
       "      <td>NO_QUERY</td>\n",
       "      <td>sassisam</td>\n",
       "      <td>@melissahoyer well it is very entertaining but...</td>\n",
       "    </tr>\n",
       "    <tr>\n",
       "      <th>1044669</th>\n",
       "      <td>4</td>\n",
       "      <td>1957467020</td>\n",
       "      <td>Fri May 29 00:35:31 PDT 2009</td>\n",
       "      <td>NO_QUERY</td>\n",
       "      <td>lemelpblog</td>\n",
       "      <td>@honeydirt why thank you my dear  thank you ki...</td>\n",
       "    </tr>\n",
       "  </tbody>\n",
       "</table>\n",
       "</div>"
      ],
      "text/plain": [
       "         target         ids                          date      flag  \\\n",
       "609349        0  2223680398  Thu Jun 18 08:34:45 PDT 2009  NO_QUERY   \n",
       "1027017       4  1932380221  Tue May 26 21:21:08 PDT 2009  NO_QUERY   \n",
       "1046390       4  1957660082  Fri May 29 01:11:42 PDT 2009  NO_QUERY   \n",
       "954353        4  1824825260  Sun May 17 03:06:03 PDT 2009  NO_QUERY   \n",
       "1044669       4  1957467020  Fri May 29 00:35:31 PDT 2009  NO_QUERY   \n",
       "\n",
       "                    user                                               text  \n",
       "609349   sicknastyalison  F on the final :/ F for the year. Helllllo sum...  \n",
       "1027017       Nice_Kitty                doing my biology homeworkt  see you  \n",
       "1046390       almayfield  is sitting at his computer eating a chicken an...  \n",
       "954353          sassisam  @melissahoyer well it is very entertaining but...  \n",
       "1044669       lemelpblog  @honeydirt why thank you my dear  thank you ki...  "
      ]
     },
     "execution_count": 3,
     "metadata": {},
     "output_type": "execute_result"
    }
   ],
   "source": [
    "# Importing the dataset\n",
    "DATASET_COLUMNS=['target','ids','date','flag','user','text']\n",
    "DATASET_ENCODING = \"ISO-8859-1\"\n",
    "df = pd.read_csv('Twitter.csv', encoding=DATASET_ENCODING, names=DATASET_COLUMNS)\n",
    "df.sample(5)"
   ]
  },
  {
   "cell_type": "markdown",
   "id": "d9248edc",
   "metadata": {},
   "source": [
    "# Step-3: Exploratory Data Analysis"
   ]
  },
  {
   "cell_type": "markdown",
   "id": "030f54a2",
   "metadata": {},
   "source": [
    "3.1: Five top records of data"
   ]
  },
  {
   "cell_type": "code",
   "execution_count": 4,
   "id": "e1526f22",
   "metadata": {},
   "outputs": [
    {
     "data": {
      "text/html": [
       "<div>\n",
       "<style scoped>\n",
       "    .dataframe tbody tr th:only-of-type {\n",
       "        vertical-align: middle;\n",
       "    }\n",
       "\n",
       "    .dataframe tbody tr th {\n",
       "        vertical-align: top;\n",
       "    }\n",
       "\n",
       "    .dataframe thead th {\n",
       "        text-align: right;\n",
       "    }\n",
       "</style>\n",
       "<table border=\"1\" class=\"dataframe\">\n",
       "  <thead>\n",
       "    <tr style=\"text-align: right;\">\n",
       "      <th></th>\n",
       "      <th>target</th>\n",
       "      <th>ids</th>\n",
       "      <th>date</th>\n",
       "      <th>flag</th>\n",
       "      <th>user</th>\n",
       "      <th>text</th>\n",
       "    </tr>\n",
       "  </thead>\n",
       "  <tbody>\n",
       "    <tr>\n",
       "      <th>0</th>\n",
       "      <td>0</td>\n",
       "      <td>1467810369</td>\n",
       "      <td>Mon Apr 06 22:19:45 PDT 2009</td>\n",
       "      <td>NO_QUERY</td>\n",
       "      <td>_TheSpecialOne_</td>\n",
       "      <td>@switchfoot http://twitpic.com/2y1zl - Awww, t...</td>\n",
       "    </tr>\n",
       "    <tr>\n",
       "      <th>1</th>\n",
       "      <td>0</td>\n",
       "      <td>1467810672</td>\n",
       "      <td>Mon Apr 06 22:19:49 PDT 2009</td>\n",
       "      <td>NO_QUERY</td>\n",
       "      <td>scotthamilton</td>\n",
       "      <td>is upset that he can't update his Facebook by ...</td>\n",
       "    </tr>\n",
       "    <tr>\n",
       "      <th>2</th>\n",
       "      <td>0</td>\n",
       "      <td>1467810917</td>\n",
       "      <td>Mon Apr 06 22:19:53 PDT 2009</td>\n",
       "      <td>NO_QUERY</td>\n",
       "      <td>mattycus</td>\n",
       "      <td>@Kenichan I dived many times for the ball. Man...</td>\n",
       "    </tr>\n",
       "    <tr>\n",
       "      <th>3</th>\n",
       "      <td>0</td>\n",
       "      <td>1467811184</td>\n",
       "      <td>Mon Apr 06 22:19:57 PDT 2009</td>\n",
       "      <td>NO_QUERY</td>\n",
       "      <td>ElleCTF</td>\n",
       "      <td>my whole body feels itchy and like its on fire</td>\n",
       "    </tr>\n",
       "    <tr>\n",
       "      <th>4</th>\n",
       "      <td>0</td>\n",
       "      <td>1467811193</td>\n",
       "      <td>Mon Apr 06 22:19:57 PDT 2009</td>\n",
       "      <td>NO_QUERY</td>\n",
       "      <td>Karoli</td>\n",
       "      <td>@nationwideclass no, it's not behaving at all....</td>\n",
       "    </tr>\n",
       "  </tbody>\n",
       "</table>\n",
       "</div>"
      ],
      "text/plain": [
       "   target         ids                          date      flag  \\\n",
       "0       0  1467810369  Mon Apr 06 22:19:45 PDT 2009  NO_QUERY   \n",
       "1       0  1467810672  Mon Apr 06 22:19:49 PDT 2009  NO_QUERY   \n",
       "2       0  1467810917  Mon Apr 06 22:19:53 PDT 2009  NO_QUERY   \n",
       "3       0  1467811184  Mon Apr 06 22:19:57 PDT 2009  NO_QUERY   \n",
       "4       0  1467811193  Mon Apr 06 22:19:57 PDT 2009  NO_QUERY   \n",
       "\n",
       "              user                                               text  \n",
       "0  _TheSpecialOne_  @switchfoot http://twitpic.com/2y1zl - Awww, t...  \n",
       "1    scotthamilton  is upset that he can't update his Facebook by ...  \n",
       "2         mattycus  @Kenichan I dived many times for the ball. Man...  \n",
       "3          ElleCTF    my whole body feels itchy and like its on fire   \n",
       "4           Karoli  @nationwideclass no, it's not behaving at all....  "
      ]
     },
     "execution_count": 4,
     "metadata": {},
     "output_type": "execute_result"
    }
   ],
   "source": [
    "df.head()"
   ]
  },
  {
   "cell_type": "markdown",
   "id": "f4b2ec96",
   "metadata": {},
   "source": [
    "3.2: Columns/features in data"
   ]
  },
  {
   "cell_type": "code",
   "execution_count": 5,
   "id": "24113176",
   "metadata": {},
   "outputs": [
    {
     "data": {
      "text/plain": [
       "Index(['target', 'ids', 'date', 'flag', 'user', 'text'], dtype='object')"
      ]
     },
     "execution_count": 5,
     "metadata": {},
     "output_type": "execute_result"
    }
   ],
   "source": [
    "df.columns"
   ]
  },
  {
   "cell_type": "markdown",
   "id": "771afbe4",
   "metadata": {},
   "source": [
    "3.3: Length of the dataset"
   ]
  },
  {
   "cell_type": "code",
   "execution_count": 6,
   "id": "e1c08a0d",
   "metadata": {},
   "outputs": [
    {
     "name": "stdout",
     "output_type": "stream",
     "text": [
      "length of data is 1048576\n"
     ]
    }
   ],
   "source": [
    "print('length of data is', len(df))"
   ]
  },
  {
   "cell_type": "markdown",
   "id": "4340a13a",
   "metadata": {},
   "source": [
    "3.4: Shape of data"
   ]
  },
  {
   "cell_type": "code",
   "execution_count": 7,
   "id": "4790db76",
   "metadata": {},
   "outputs": [
    {
     "data": {
      "text/plain": [
       "(1048576, 6)"
      ]
     },
     "execution_count": 7,
     "metadata": {},
     "output_type": "execute_result"
    }
   ],
   "source": [
    "df.shape"
   ]
  },
  {
   "cell_type": "markdown",
   "id": "9b5851dc",
   "metadata": {},
   "source": [
    "3.5: Data information"
   ]
  },
  {
   "cell_type": "code",
   "execution_count": 8,
   "id": "0d080dcb",
   "metadata": {},
   "outputs": [
    {
     "name": "stdout",
     "output_type": "stream",
     "text": [
      "<class 'pandas.core.frame.DataFrame'>\n",
      "RangeIndex: 1048576 entries, 0 to 1048575\n",
      "Data columns (total 6 columns):\n",
      " #   Column  Non-Null Count    Dtype \n",
      "---  ------  --------------    ----- \n",
      " 0   target  1048576 non-null  int64 \n",
      " 1   ids     1048576 non-null  int64 \n",
      " 2   date    1048576 non-null  object\n",
      " 3   flag    1048576 non-null  object\n",
      " 4   user    1048576 non-null  object\n",
      " 5   text    1048576 non-null  object\n",
      "dtypes: int64(2), object(4)\n",
      "memory usage: 48.0+ MB\n"
     ]
    }
   ],
   "source": [
    "df.info()"
   ]
  },
  {
   "cell_type": "markdown",
   "id": "88d00f80",
   "metadata": {},
   "source": [
    "3.6: Datatypes of all columns"
   ]
  },
  {
   "cell_type": "code",
   "execution_count": 9,
   "id": "bb3246d2",
   "metadata": {},
   "outputs": [
    {
     "data": {
      "text/plain": [
       "target     int64\n",
       "ids        int64\n",
       "date      object\n",
       "flag      object\n",
       "user      object\n",
       "text      object\n",
       "dtype: object"
      ]
     },
     "execution_count": 9,
     "metadata": {},
     "output_type": "execute_result"
    }
   ],
   "source": [
    "df.dtypes"
   ]
  },
  {
   "cell_type": "markdown",
   "id": "6753752d",
   "metadata": {},
   "source": [
    "3.7: Checking for null values"
   ]
  },
  {
   "cell_type": "code",
   "execution_count": 10,
   "id": "1a499dc1",
   "metadata": {},
   "outputs": [
    {
     "data": {
      "text/plain": [
       "0"
      ]
     },
     "execution_count": 10,
     "metadata": {},
     "output_type": "execute_result"
    }
   ],
   "source": [
    "np.sum(df.isnull().any(axis=1))"
   ]
  },
  {
   "cell_type": "markdown",
   "id": "8aad1db9",
   "metadata": {},
   "source": [
    "3.8: Rows and columns in the dataset"
   ]
  },
  {
   "cell_type": "code",
   "execution_count": 11,
   "id": "c89ae527",
   "metadata": {},
   "outputs": [
    {
     "name": "stdout",
     "output_type": "stream",
     "text": [
      "Count of columns in the data is:   6\n",
      "Count of rows in the data is:   1048576\n"
     ]
    }
   ],
   "source": [
    "print('Count of columns in the data is:  ', len(df.columns))\n",
    "print('Count of rows in the data is:  ', len(df))"
   ]
  },
  {
   "cell_type": "markdown",
   "id": "f7a20b44",
   "metadata": {},
   "source": [
    "3.9: Check unique target values"
   ]
  },
  {
   "cell_type": "code",
   "execution_count": 12,
   "id": "1506fb44",
   "metadata": {},
   "outputs": [
    {
     "data": {
      "text/plain": [
       "array([0, 4], dtype=int64)"
      ]
     },
     "execution_count": 12,
     "metadata": {},
     "output_type": "execute_result"
    }
   ],
   "source": [
    "df['target'].unique()"
   ]
  },
  {
   "cell_type": "markdown",
   "id": "c39b4c09",
   "metadata": {},
   "source": [
    "3.10: Check the number of target values"
   ]
  },
  {
   "cell_type": "code",
   "execution_count": 13,
   "id": "fc2cfaf6",
   "metadata": {},
   "outputs": [
    {
     "data": {
      "text/plain": [
       "2"
      ]
     },
     "execution_count": 13,
     "metadata": {},
     "output_type": "execute_result"
    }
   ],
   "source": [
    "df['target'].nunique()"
   ]
  },
  {
   "cell_type": "markdown",
   "id": "4fab5546",
   "metadata": {},
   "source": [
    "# Step-4: Data Visualization of Target Variables"
   ]
  },
  {
   "cell_type": "code",
   "execution_count": 14,
   "id": "d613e2a3",
   "metadata": {},
   "outputs": [
    {
     "data": {
      "image/png": "[encoded data removed]",
      "text/plain": [
       "<Figure size 432x288 with 1 Axes>"
      ]
     },
     "metadata": {
      "needs_background": "light"
     },
     "output_type": "display_data"
    }
   ],
   "source": [
    "# Plotting the distribution for dataset.\n",
    "ax = df.groupby('target').count().plot(kind='bar', title='Distribution of data',legend=False)\n",
    "ax.set_xticklabels(['Negative','Positive'], rotation=0)\n",
    "# Storing data in lists.\n",
    "text, sentiment = list(df['text']), list(df['target'])"
   ]
  },
  {
   "cell_type": "code",
   "execution_count": 15,
   "id": "8b5f9f8c",
   "metadata": {},
   "outputs": [
    {
     "data": {
      "text/plain": [
       "<AxesSubplot:xlabel='target', ylabel='count'>"
      ]
     },
     "execution_count": 15,
     "metadata": {},
     "output_type": "execute_result"
    },
    {
     "data": {
      "image/png": "[encoded data removed]",
      "text/plain": [
       "<Figure size 432x288 with 1 Axes>"
      ]
     },
     "metadata": {
      "needs_background": "light"
     },
     "output_type": "display_data"
    }
   ],
   "source": [
    "sns.countplot(x='target', data=df)"
   ]
  },
  {
   "cell_type": "markdown",
   "id": "d58e9031",
   "metadata": {},
   "source": [
    "# Step-5: Data Preprocessing"
   ]
  },
  {
   "cell_type": "markdown",
   "id": "43d61772",
   "metadata": {},
   "source": [
    "5.1: Selecting the text and Target column for our further analysis"
   ]
  },
  {
   "cell_type": "code",
   "execution_count": 16,
   "id": "7da96e23",
   "metadata": {},
   "outputs": [],
   "source": [
    "data=df[['text','target']]"
   ]
  },
  {
   "cell_type": "markdown",
   "id": "2877c4f8",
   "metadata": {},
   "source": [
    "5.2: Replacing the values to ease understanding. (Assigning 1 to Positive sentiment 4)"
   ]
  },
  {
   "cell_type": "code",
   "execution_count": 17,
   "id": "8aea49ab",
   "metadata": {},
   "outputs": [],
   "source": [
    "#data['target'] = data['target'].replace(4,1)\n",
    "\n",
    "data.loc[data['target'] == 4, 'target'] = 1"
   ]
  },
  {
   "cell_type": "markdown",
   "id": "e5eb4964",
   "metadata": {},
   "source": [
    "5.3: Printing unique values of target variables"
   ]
  },
  {
   "cell_type": "code",
   "execution_count": 18,
   "id": "bab745e3",
   "metadata": {},
   "outputs": [
    {
     "data": {
      "text/plain": [
       "array([0, 1], dtype=int64)"
      ]
     },
     "execution_count": 18,
     "metadata": {},
     "output_type": "execute_result"
    }
   ],
   "source": [
    "data['target'].unique()"
   ]
  },
  {
   "cell_type": "markdown",
   "id": "285df3cb",
   "metadata": {},
   "source": [
    "5.4: Separating positive and negative tweets"
   ]
  },
  {
   "cell_type": "code",
   "execution_count": 19,
   "id": "f4c6eb0f",
   "metadata": {},
   "outputs": [],
   "source": [
    "data_pos = data[data['target'] == 1]\n",
    "data_neg = data[data['target'] == 0]"
   ]
  },
  {
   "cell_type": "markdown",
   "id": "b0cfc367",
   "metadata": {},
   "source": [
    "5.5: Taking one-fourth of the data so we can run it on our machine easily"
   ]
  },
  {
   "cell_type": "code",
   "execution_count": 20,
   "id": "d4d8f20c",
   "metadata": {},
   "outputs": [],
   "source": [
    "data_pos = data_pos.iloc[:int(20000)]\n",
    "data_neg = data_neg.iloc[:int(20000)]"
   ]
  },
  {
   "cell_type": "markdown",
   "id": "54bb6459",
   "metadata": {},
   "source": [
    "5.6: Combining positive and negative tweets"
   ]
  },
  {
   "cell_type": "code",
   "execution_count": 56,
   "id": "d7442628",
   "metadata": {},
   "outputs": [],
   "source": [
    "dataset = pd.concat([data_pos, data_neg])"
   ]
  },
  {
   "cell_type": "markdown",
   "id": "f8e8432c",
   "metadata": {},
   "source": [
    "5.7: Making statement text in lowercase"
   ]
  },
  {
   "cell_type": "code",
   "execution_count": 22,
   "id": "07c8e1ac",
   "metadata": {},
   "outputs": [
    {
     "data": {
      "text/plain": [
       "19995    not much time off this weekend, work trip to m...\n",
       "19996                            one more day of holidays \n",
       "19997    feeling so down right now .. i hate you damn h...\n",
       "19998    geez,i hv to read the whole book of personalit...\n",
       "19999    i threw my sign at donnie and he bent over to ...\n",
       "Name: text, dtype: object"
      ]
     },
     "execution_count": 22,
     "metadata": {},
     "output_type": "execute_result"
    }
   ],
   "source": [
    "dataset['text']=dataset['text'].str.lower()\n",
    "dataset['text'].tail()"
   ]
  },
  {
   "cell_type": "markdown",
   "id": "1aae1f16",
   "metadata": {},
   "source": [
    "5.8: Defining set containing all stopwords in English."
   ]
  },
  {
   "cell_type": "code",
   "execution_count": 23,
   "id": "fc413122",
   "metadata": {},
   "outputs": [],
   "source": [
    "stopwordlist = ['a', 'about', 'above', 'after', 'again', 'ain', 'all', 'am', 'an',\n",
    "             'and','any','are', 'as', 'at', 'be', 'because', 'been', 'before',\n",
    "             'being', 'below', 'between','both', 'by', 'can', 'd', 'did', 'do',\n",
    "             'does', 'doing', 'down', 'during', 'each','few', 'for', 'from',\n",
    "             'further', 'had', 'has', 'have', 'having', 'he', 'her', 'here',\n",
    "             'hers', 'herself', 'him', 'himself', 'his', 'how', 'i', 'if', 'in',\n",
    "             'into','is', 'it', 'its', 'itself', 'just', 'll', 'm', 'ma',\n",
    "             'me', 'more', 'most','my', 'myself', 'now', 'o', 'of', 'on', 'once',\n",
    "             'only', 'or', 'other', 'our', 'ours','ourselves', 'out', 'own', 're','s', \n",
    "             'same', 'she', \"shes\", 'should', \"shouldve\",'so', 'some', 'such',\n",
    "             't', 'than', 'that', \"thatll\", 'the', 'their', 'theirs', 'them',\n",
    "             'themselves', 'then', 'there', 'these', 'they', 'this', 'those',\n",
    "             'through', 'to', 'too','under', 'until', 'up', 've', 'very', 'was',\n",
    "             'we', 'were', 'what', 'when', 'where','which','while', 'who', 'whom',\n",
    "             'why', 'will', 'with', 'won', 'y', 'you', \"youd\",\"youll\", \"youre\",\n",
    "             \"youve\", 'your', 'yours', 'yourself', 'yourselves']"
   ]
  },
  {
   "cell_type": "markdown",
   "id": "b41063f5",
   "metadata": {},
   "source": [
    "5.9: Cleaning and removing the above stop words list from the tweet text"
   ]
  },
  {
   "cell_type": "code",
   "execution_count": 24,
   "id": "7c8d482d",
   "metadata": {},
   "outputs": [
    {
     "data": {
      "text/plain": [
       "800000                love @health4uandpets u guys r best!!\n",
       "800001    im meeting one besties tonight! cant wait!! - ...\n",
       "800002    @darealsunisakim thanks twitter add, sunisa! g...\n",
       "800003    sick really cheap hurts much eat real food plu...\n",
       "800004                      @lovesbrooklyn2 effect everyone\n",
       "Name: text, dtype: object"
      ]
     },
     "execution_count": 24,
     "metadata": {},
     "output_type": "execute_result"
    }
   ],
   "source": [
    "STOPWORDS = set(stopwordlist)\n",
    "def cleaning_stopwords(text):\n",
    "    return \" \".join([word for word in str(text).split() if word not in STOPWORDS])\n",
    "dataset['text'] = dataset['text'].apply(lambda text: cleaning_stopwords(text))\n",
    "dataset['text'].head()"
   ]
  },
  {
   "cell_type": "markdown",
   "id": "c7e97a61",
   "metadata": {},
   "source": [
    "5.10: Cleaning and removing punctuations"
   ]
  },
  {
   "cell_type": "code",
   "execution_count": 25,
   "id": "92ce282b",
   "metadata": {},
   "outputs": [
    {
     "data": {
      "text/plain": [
       "19995    not much time off weekend work trip malmï¿½ fr...\n",
       "19996                                     one day holidays\n",
       "19997                     feeling right  hate damn humprey\n",
       "19998    geezi hv read whole book personality types emb...\n",
       "19999    threw sign donnie bent over get but thingee ma...\n",
       "Name: text, dtype: object"
      ]
     },
     "execution_count": 25,
     "metadata": {},
     "output_type": "execute_result"
    }
   ],
   "source": [
    "import string\n",
    "english_punctuations = string.punctuation\n",
    "punctuations_list = english_punctuations\n",
    "def cleaning_punctuations(text):\n",
    "    translator = str.maketrans('', '', punctuations_list)\n",
    "    return text.translate(translator)\n",
    "dataset['text']= dataset['text'].apply(lambda x: cleaning_punctuations(x))\n",
    "dataset['text'].tail()"
   ]
  },
  {
   "cell_type": "markdown",
   "id": "378b05fd",
   "metadata": {},
   "source": [
    "5.11: Cleaning and removing repeating characters"
   ]
  },
  {
   "cell_type": "code",
   "execution_count": 26,
   "id": "5d69d796",
   "metadata": {},
   "outputs": [
    {
     "data": {
      "text/plain": [
       "19995    not much time off weekend work trip malmï¿½ fr...\n",
       "19996                                     one day holidays\n",
       "19997                     feeling right  hate damn humprey\n",
       "19998    geezi hv read whole book personality types emb...\n",
       "19999    threw sign donnie bent over get but thingee ma...\n",
       "Name: text, dtype: object"
      ]
     },
     "execution_count": 26,
     "metadata": {},
     "output_type": "execute_result"
    }
   ],
   "source": [
    "def cleaning_repeating_char(text):\n",
    "    return re.sub(r'(.)1+', r'1', text)\n",
    "dataset['text'] = dataset['text'].apply(lambda x: cleaning_repeating_char(x))\n",
    "dataset['text'].tail()"
   ]
  },
  {
   "cell_type": "markdown",
   "id": "b8533930",
   "metadata": {},
   "source": [
    "5.12: Cleaning and removing URLs"
   ]
  },
  {
   "cell_type": "code",
   "execution_count": 27,
   "id": "bbb3041d",
   "metadata": {},
   "outputs": [
    {
     "data": {
      "text/plain": [
       "19995    not much time off weekend work trip malmï¿½ fr...\n",
       "19996                                     one day holidays\n",
       "19997                     feeling right  hate damn humprey\n",
       "19998    geezi hv read whole book personality types emb...\n",
       "19999    threw sign donnie bent over get but thingee ma...\n",
       "Name: text, dtype: object"
      ]
     },
     "execution_count": 27,
     "metadata": {},
     "output_type": "execute_result"
    }
   ],
   "source": [
    "def cleaning_URLs(data):\n",
    "    return re.sub('((www.[^s]+)|(https?://[^s]+))',' ',data)\n",
    "dataset['text'] = dataset['text'].apply(lambda x: cleaning_URLs(x))\n",
    "dataset['text'].tail()"
   ]
  },
  {
   "cell_type": "markdown",
   "id": "db8d751b",
   "metadata": {},
   "source": [
    "5.13: Cleaning and removing numeric numbers"
   ]
  },
  {
   "cell_type": "code",
   "execution_count": 28,
   "id": "9308106e",
   "metadata": {},
   "outputs": [
    {
     "data": {
      "text/plain": [
       "19995    not much time off weekend work trip malmï¿½ fr...\n",
       "19996                                     one day holidays\n",
       "19997                     feeling right  hate damn humprey\n",
       "19998    geezi hv read whole book personality types emb...\n",
       "19999    threw sign donnie bent over get but thingee ma...\n",
       "Name: text, dtype: object"
      ]
     },
     "execution_count": 28,
     "metadata": {},
     "output_type": "execute_result"
    }
   ],
   "source": [
    "def cleaning_numbers(data):\n",
    "    return re.sub('[0-9]+', '', data)\n",
    "dataset['text'] = dataset['text'].apply(lambda x: cleaning_numbers(x))\n",
    "dataset['text'].tail()"
   ]
  },
  {
   "cell_type": "markdown",
   "id": "20f6a61b",
   "metadata": {},
   "source": [
    "5.14: Getting tokenization of tweet text"
   ]
  },
  {
   "cell_type": "code",
   "execution_count": 29,
   "id": "887923cb",
   "metadata": {},
   "outputs": [
    {
     "data": {
      "text/plain": [
       "800000             [love, healthuandpets, u, guys, r, best]\n",
       "800001    [im, meeting, one, besties, tonight, cant, wai...\n",
       "800002    [darealsunisakim, thanks, twitter, add, sunisa...\n",
       "800003    [sick, really, cheap, hurts, much, eat, real, ...\n",
       "800004                    [lovesbrooklyn, effect, everyone]\n",
       "Name: text, dtype: object"
      ]
     },
     "execution_count": 29,
     "metadata": {},
     "output_type": "execute_result"
    }
   ],
   "source": [
    "from nltk.tokenize import RegexpTokenizer\n",
    "tokenizer = RegexpTokenizer(r'\\w+')\n",
    "dataset['text'] = dataset['text'].apply(tokenizer.tokenize)\n",
    "dataset['text'].head()"
   ]
  },
  {
   "cell_type": "markdown",
   "id": "5e981c1c",
   "metadata": {},
   "source": [
    "5.15: Applying stemming"
   ]
  },
  {
   "cell_type": "code",
   "execution_count": 30,
   "id": "585bdb9c",
   "metadata": {},
   "outputs": [
    {
     "data": {
      "text/plain": [
       "800000             [love, healthuandpets, u, guys, r, best]\n",
       "800001    [im, meeting, one, besties, tonight, cant, wai...\n",
       "800002    [darealsunisakim, thanks, twitter, add, sunisa...\n",
       "800003    [sick, really, cheap, hurts, much, eat, real, ...\n",
       "800004                    [lovesbrooklyn, effect, everyone]\n",
       "Name: text, dtype: object"
      ]
     },
     "execution_count": 30,
     "metadata": {},
     "output_type": "execute_result"
    }
   ],
   "source": [
    "import nltk\n",
    "st = nltk.PorterStemmer()\n",
    "def stemming_on_text(data):\n",
    "    text = [st.stem(word) for word in data]\n",
    "    return data\n",
    "dataset['text']= dataset['text'].apply(lambda x: stemming_on_text(x))\n",
    "dataset['text'].head()"
   ]
  },
  {
   "cell_type": "markdown",
   "id": "cf039a62",
   "metadata": {},
   "source": [
    "5.16: Applying lemmatizer"
   ]
  },
  {
   "cell_type": "code",
   "execution_count": 31,
   "id": "0f0cf0fb",
   "metadata": {},
   "outputs": [
    {
     "data": {
      "text/plain": [
       "800000             [love, healthuandpets, u, guys, r, best]\n",
       "800001    [im, meeting, one, besties, tonight, cant, wai...\n",
       "800002    [darealsunisakim, thanks, twitter, add, sunisa...\n",
       "800003    [sick, really, cheap, hurts, much, eat, real, ...\n",
       "800004                    [lovesbrooklyn, effect, everyone]\n",
       "Name: text, dtype: object"
      ]
     },
     "execution_count": 31,
     "metadata": {},
     "output_type": "execute_result"
    }
   ],
   "source": [
    "lm = nltk.WordNetLemmatizer()\n",
    "def lemmatizer_on_text(data):\n",
    "    text = [lm.lemmatize(word) for word in data]\n",
    "    return data\n",
    "dataset['text'] = dataset['text'].apply(lambda x: lemmatizer_on_text(x))\n",
    "dataset['text'].head()"
   ]
  },
  {
   "cell_type": "markdown",
   "id": "6b41be0a",
   "metadata": {},
   "source": [
    "5.17: Separating input feature and label"
   ]
  },
  {
   "cell_type": "code",
   "execution_count": 32,
   "id": "50de8540",
   "metadata": {},
   "outputs": [],
   "source": [
    "X=data.text\n",
    "y=data.target"
   ]
  },
  {
   "cell_type": "markdown",
   "id": "54685368",
   "metadata": {},
   "source": [
    "5.18: Plot a cloud of words for negative tweets"
   ]
  },
  {
   "cell_type": "code",
   "execution_count": 46,
   "id": "5b7cf1ff",
   "metadata": {},
   "outputs": [],
   "source": [
    "#data_neg = data['text'][:800000]\n",
    "#plt.figure(figsize = (20,20))\n",
    "#wc = WordCloud(max_words = 1000 , width = 1600 , height = 800,\n",
    "#               collocations=False).generate(\" \".join(data_neg))\n",
    "#plt.imshow(wc)"
   ]
  },
  {
   "cell_type": "markdown",
   "id": "a6444a91",
   "metadata": {},
   "source": [
    "5.19: Plot a cloud of words for positive tweets"
   ]
  },
  {
   "cell_type": "code",
   "execution_count": 34,
   "id": "9651cb52",
   "metadata": {},
   "outputs": [],
   "source": [
    "#data_pos = data['text'][800000:]\n",
    "#wc = WordCloud(max_words = 1000 , width = 1600 , height = 800,\n",
    "#              collocations=False).generate(\" \".join(data_pos))\n",
    "#plt.figure(figsize = (20,20))\n",
    "#plt.imshow(wc)"
   ]
  },
  {
   "cell_type": "markdown",
   "id": "4f900302",
   "metadata": {},
   "source": [
    "# Step-6: Splitting Our Data Into Train and Test Subsets"
   ]
  },
  {
   "cell_type": "code",
   "execution_count": 35,
   "id": "3e5b479b",
   "metadata": {},
   "outputs": [],
   "source": [
    "# Separating the 95% data for training data and 5% for testing data\n",
    "X_train, X_test, y_train, y_test = train_test_split(X,y,test_size = 0.05, random_state =26105111)"
   ]
  },
  {
   "cell_type": "markdown",
   "id": "c3e1260b",
   "metadata": {},
   "source": [
    "# Step-7: Transforming the Dataset Using TF-IDF Vectorizer"
   ]
  },
  {
   "cell_type": "markdown",
   "id": "d1789667",
   "metadata": {},
   "source": [
    "7.1: Fit the TF-IDF Vectorizer"
   ]
  },
  {
   "cell_type": "code",
   "execution_count": 36,
   "id": "e6ae3bb5",
   "metadata": {},
   "outputs": [
    {
     "name": "stderr",
     "output_type": "stream",
     "text": [
      "C:\\Users\\Manoj R\\anaconda3\\lib\\site-packages\\sklearn\\utils\\deprecation.py:87: FutureWarning: Function get_feature_names is deprecated; get_feature_names is deprecated in 1.0 and will be removed in 1.2. Please use get_feature_names_out instead.\n",
      "  warnings.warn(msg, category=FutureWarning)\n"
     ]
    },
    {
     "name": "stdout",
     "output_type": "stream",
     "text": [
      "No. of feature_words:  500000\n"
     ]
    }
   ],
   "source": [
    "vectoriser = TfidfVectorizer(ngram_range=(1,2), max_features=500000)\n",
    "vectoriser.fit(X_train)\n",
    "print('No. of feature_words: ', len(vectoriser.get_feature_names()))"
   ]
  },
  {
   "cell_type": "markdown",
   "id": "c027b4bb",
   "metadata": {},
   "source": [
    "7.2: Transform the data using TF-IDF Vectorizer"
   ]
  },
  {
   "cell_type": "code",
   "execution_count": 37,
   "id": "fba42b49",
   "metadata": {},
   "outputs": [],
   "source": [
    "X_train = vectoriser.transform(X_train)\n",
    "X_test  = vectoriser.transform(X_test)"
   ]
  },
  {
   "cell_type": "markdown",
   "id": "c06e6a70",
   "metadata": {},
   "source": [
    "# Step-8: Function for Model Evaluation"
   ]
  },
  {
   "cell_type": "code",
   "execution_count": 38,
   "id": "0df666e2",
   "metadata": {},
   "outputs": [],
   "source": [
    "def model_Evaluate(model):\n",
    "    # Predict values for Test dataset\n",
    "    y_pred = model.predict(X_test)\n",
    "    # Print the evaluation metrics for the dataset.\n",
    "    print(classification_report(y_test, y_pred))\n",
    "    # Compute and plot the Confusion matrix\n",
    "    cf_matrix = confusion_matrix(y_test, y_pred)\n",
    "    categories = ['Negative','Positive']\n",
    "    group_names = ['True Neg','False Pos', 'False Neg','True Pos']\n",
    "    group_percentages = ['{0:.2%}'.format(value) for value in cf_matrix.flatten() / np.sum(cf_matrix)]\n",
    "    labels = [f'{v1}n{v2}' for v1, v2 in zip(group_names,group_percentages)]\n",
    "    labels = np.asarray(labels).reshape(2,2)\n",
    "    sns.heatmap(cf_matrix, annot = labels, cmap = 'Blues',fmt = '',\n",
    "    xticklabels = categories, yticklabels = categories)\n",
    "    plt.xlabel(\"Predicted values\", fontdict = {'size':14}, labelpad = 10)\n",
    "    plt.ylabel(\"Actual values\" , fontdict = {'size':14}, labelpad = 10)\n",
    "    plt.title (\"Confusion Matrix\", fontdict = {'size':18}, pad = 20)"
   ]
  },
  {
   "cell_type": "markdown",
   "id": "21d03017",
   "metadata": {},
   "source": [
    "# Step-9: Model Building"
   ]
  },
  {
   "cell_type": "markdown",
   "id": "a2102c48",
   "metadata": {},
   "source": [
    "8.1: Model-1"
   ]
  },
  {
   "cell_type": "code",
   "execution_count": 39,
   "id": "6c460e55",
   "metadata": {},
   "outputs": [
    {
     "name": "stdout",
     "output_type": "stream",
     "text": [
      "              precision    recall  f1-score   support\n",
      "\n",
      "           0       0.89      0.90      0.90     40097\n",
      "           1       0.67      0.66      0.66     12332\n",
      "\n",
      "    accuracy                           0.84     52429\n",
      "   macro avg       0.78      0.78      0.78     52429\n",
      "weighted avg       0.84      0.84      0.84     52429\n",
      "\n"
     ]
    },
    {
     "data": {
      "image/png": "[encoded data removed]",
      "text/plain": [
       "<Figure size 432x288 with 2 Axes>"
      ]
     },
     "metadata": {
      "needs_background": "light"
     },
     "output_type": "display_data"
    }
   ],
   "source": [
    "BNBmodel = BernoulliNB()\n",
    "BNBmodel.fit(X_train, y_train)\n",
    "model_Evaluate(BNBmodel)\n",
    "y_pred1 = BNBmodel.predict(X_test)"
   ]
  },
  {
   "cell_type": "markdown",
   "id": "c61e2290",
   "metadata": {},
   "source": [
    "8.2: Plot the ROC-AUC Curve for model-1"
   ]
  },
  {
   "cell_type": "code",
   "execution_count": 40,
   "id": "baea9054",
   "metadata": {},
   "outputs": [
    {
     "data": {
      "image/png": "[encoded data removed]",
      "text/plain": [
       "<Figure size 432x288 with 1 Axes>"
      ]
     },
     "metadata": {
      "needs_background": "light"
     },
     "output_type": "display_data"
    }
   ],
   "source": [
    "from sklearn.metrics import roc_curve, auc\n",
    "fpr, tpr, thresholds = roc_curve(y_test, y_pred1)\n",
    "roc_auc = auc(fpr, tpr)\n",
    "plt.figure()\n",
    "plt.plot(fpr, tpr, color='darkorange', lw=1, label='ROC curve (area = %0.2f)' % roc_auc)\n",
    "plt.xlim([0.0, 1.0])\n",
    "plt.ylim([0.0, 1.05])\n",
    "plt.xlabel('False Positive Rate')\n",
    "plt.ylabel('True Positive Rate')\n",
    "plt.title('ROC CURVE')\n",
    "plt.legend(loc=\"lower right\")\n",
    "plt.show()"
   ]
  },
  {
   "cell_type": "markdown",
   "id": "0a39e9d2",
   "metadata": {},
   "source": [
    "8.3: Model-2:"
   ]
  },
  {
   "cell_type": "code",
   "execution_count": 41,
   "id": "e4e2353a",
   "metadata": {},
   "outputs": [
    {
     "name": "stdout",
     "output_type": "stream",
     "text": [
      "              precision    recall  f1-score   support\n",
      "\n",
      "           0       0.89      0.93      0.91     40097\n",
      "           1       0.74      0.63      0.68     12332\n",
      "\n",
      "    accuracy                           0.86     52429\n",
      "   macro avg       0.81      0.78      0.80     52429\n",
      "weighted avg       0.86      0.86      0.86     52429\n",
      "\n"
     ]
    },
    {
     "data": {
      "image/png": "[encoded data removed]",
      "text/plain": [
       "<Figure size 432x288 with 2 Axes>"
      ]
     },
     "metadata": {
      "needs_background": "light"
     },
     "output_type": "display_data"
    }
   ],
   "source": [
    "SVCmodel = LinearSVC()\n",
    "SVCmodel.fit(X_train, y_train)\n",
    "model_Evaluate(SVCmodel)\n",
    "y_pred2 = SVCmodel.predict(X_test)"
   ]
  },
  {
   "cell_type": "markdown",
   "id": "a45307cd",
   "metadata": {},
   "source": [
    "8.4: Plot the ROC-AUC Curve for model-2"
   ]
  },
  {
   "cell_type": "code",
   "execution_count": 42,
   "id": "c86cb267",
   "metadata": {},
   "outputs": [
    {
     "data": {
      "image/png": "[encoded data removed]",
      "text/plain": [
       "<Figure size 432x288 with 1 Axes>"
      ]
     },
     "metadata": {
      "needs_background": "light"
     },
     "output_type": "display_data"
    }
   ],
   "source": [
    "from sklearn.metrics import roc_curve, auc\n",
    "fpr, tpr, thresholds = roc_curve(y_test, y_pred2)\n",
    "roc_auc = auc(fpr, tpr)\n",
    "plt.figure()\n",
    "plt.plot(fpr, tpr, color='darkorange', lw=1, label='ROC curve (area = %0.2f)' % roc_auc)\n",
    "plt.xlim([0.0, 1.0])\n",
    "plt.ylim([0.0, 1.05])\n",
    "plt.xlabel('False Positive Rate')\n",
    "plt.ylabel('True Positive Rate')\n",
    "plt.title('ROC CURVE')\n",
    "plt.legend(loc=\"lower right\")\n",
    "plt.show()"
   ]
  },
  {
   "cell_type": "markdown",
   "id": "33c7383a",
   "metadata": {},
   "source": [
    "8.5: Model-3"
   ]
  },
  {
   "cell_type": "code",
   "execution_count": 43,
   "id": "b3f2384c",
   "metadata": {},
   "outputs": [
    {
     "name": "stdout",
     "output_type": "stream",
     "text": [
      "              precision    recall  f1-score   support\n",
      "\n",
      "           0       0.89      0.95      0.92     40097\n",
      "           1       0.78      0.61      0.69     12332\n",
      "\n",
      "    accuracy                           0.87     52429\n",
      "   macro avg       0.83      0.78      0.80     52429\n",
      "weighted avg       0.86      0.87      0.86     52429\n",
      "\n"
     ]
    },
    {
     "data": {
      "image/png": "[encoded data removed]",
      "text/plain": [
       "<Figure size 432x288 with 2 Axes>"
      ]
     },
     "metadata": {
      "needs_background": "light"
     },
     "output_type": "display_data"
    }
   ],
   "source": [
    "LRmodel = LogisticRegression(C = 2, max_iter = 1000, n_jobs=-1)\n",
    "LRmodel.fit(X_train, y_train)\n",
    "model_Evaluate(LRmodel)\n",
    "y_pred3 = LRmodel.predict(X_test)"
   ]
  },
  {
   "cell_type": "markdown",
   "id": "1c9f5f8c",
   "metadata": {},
   "source": [
    "8.6: Plot the ROC-AUC Curve for model-3"
   ]
  },
  {
   "cell_type": "code",
   "execution_count": 44,
   "id": "f681f41f",
   "metadata": {},
   "outputs": [
    {
     "data": {
      "image/png": "[encoded data removed]",
      "text/plain": [
       "<Figure size 432x288 with 1 Axes>"
      ]
     },
     "metadata": {
      "needs_background": "light"
     },
     "output_type": "display_data"
    }
   ],
   "source": [
    "from sklearn.metrics import roc_curve, auc\n",
    "fpr, tpr, thresholds = roc_curve(y_test, y_pred3)\n",
    "roc_auc = auc(fpr, tpr)\n",
    "plt.figure()\n",
    "plt.plot(fpr, tpr, color='darkorange', lw=1, label='ROC curve (area = %0.2f)' % roc_auc)\n",
    "plt.xlim([0.0, 1.0])\n",
    "plt.ylim([0.0, 1.05])\n",
    "plt.xlabel('False Positive Rate')\n",
    "plt.ylabel('True Positive Rate')\n",
    "plt.title('ROC CURVE')\n",
    "plt.legend(loc=\"lower right\")\n",
    "plt.show()"
   ]
  },
  {
   "cell_type": "markdown",
   "id": "93342461",
   "metadata": {},
   "source": [
    "# Step-10: Model Evaluation"
   ]
  },
  {
   "cell_type": "markdown",
   "id": "5b885ff4",
   "metadata": {},
   "source": [
    "\n",
    "Upon evaluating all the models, we can conclude the following details i.e.\n",
    "\n",
    "Accuracy: As far as the accuracy of the model is concerned, Logistic Regression performs better than SVM, \n",
    "which in turn performs better than Bernoulli Naive Bayes.\n",
    "\n",
    "F1-score: The F1 Scores for class 0 and class 1 are :\n",
    "(a) For class 0: Bernoulli Naive Bayes(accuracy = 0.90) < SVM (accuracy =0.91) < Logistic Regression (accuracy = 0.92)\n",
    "(b) For class 1: Bernoulli Naive Bayes (accuracy = 0.66) < SVM (accuracy = 0.68) < Logistic Regression (accuracy = 0.69)\n",
    "\n",
    "AUC Score: All three models have the same ROC-AUC score.\n",
    "\n",
    "We, therefore, conclude that the Logistic Regression is the best model for the above-given dataset.\n",
    "\n",
    "In our problem statement, Logistic Regression follows the principle of Occam’s Razor, which defines that \n",
    "for a particular problem statement, if the data has no assumption, then the simplest model works the best. \n",
    "Since our dataset does not have any assumptions and Logistic Regression is a simple model. \n",
    "Therefore, the concept holds true for the above-mentioned dataset."
   ]
  },
  {
   "cell_type": "code",
   "execution_count": null,
   "id": "eccc37a7",
   "metadata": {},
   "outputs": [],
   "source": []
  },
  {
   "cell_type": "markdown",
   "id": "66403a68",
   "metadata": {},
   "source": [
    "# What is Twitter Sentiment Analysis?"
   ]
  },
  {
   "cell_type": "markdown",
   "id": "2c2b9b15",
   "metadata": {},
   "source": [
    "Twitter sentiment analysis analyzes the sentiment or emotion of tweets. It uses natural language processing and machine learning algorithms to classify tweets automatically as positive, negative, or neutral based on their content. It can be done for individual tweets or a larger dataset related to a particular topic or event."
   ]
  },
  {
   "cell_type": "markdown",
   "id": "3175e9a4",
   "metadata": {},
   "source": [
    "# Why is Twitter Sentiment Analysis Important?"
   ]
  },
  {
   "cell_type": "markdown",
   "id": "cc3fa9fc",
   "metadata": {},
   "source": [
    "Understanding Customer Feedback: By analyzing the sentiment of customer feedback, companies can identify areas where they need to improve their products or services.\n",
    "Reputation Management: Sentiment analysis can help companies monitor their brand reputation online and quickly respond to negative comments or reviews.\n",
    "Political Analysis: Sentiment analysis can help political campaigns understand public opinion and tailor their messaging accordingly.\n",
    "Crisis Management: In the event of a crisis, sentiment analysis can help organizations monitor social media and news outlets for negative sentiment and respond appropriately.\n",
    "Marketing Research: Sentiment analysis can help marketers understand consumer behavior and preferences, and develop targeted advertising campaigns."
   ]
  },
  {
   "cell_type": "markdown",
   "id": "cfd609ba",
   "metadata": {},
   "source": [
    "# How to Do Twitter Sentiment Analysis?"
   ]
  },
  {
   "cell_type": "markdown",
   "id": "f9a56e21",
   "metadata": {},
   "source": [
    "\n",
    "In this article, we aim to analyze Twitter sentiment analysis using machine learning algorithms, the sentiment of tweets provided from the Sentiment140 dataset by developing a machine learning pipeline involving the use of three classifiers (Logistic Regression, Bernoulli Naive Bayes, and SVM)along with using Term Frequency- Inverse Document Frequency (TF-IDF). The performance of these classifiers is then evaluated using accuracy and F1 Scores.\n",
    "\n",
    "For data preprocessing, we will be using Natural Language Processing’s (NLP) NLTK library.\n",
    "\n"
   ]
  },
  {
   "cell_type": "markdown",
   "id": "e82ece1b",
   "metadata": {},
   "source": [
    "# Twitter Sentiment Analysis: Problem Statement"
   ]
  },
  {
   "cell_type": "markdown",
   "id": "043b3ce5",
   "metadata": {},
   "source": [
    "In this project, we try to implement an NLP Twitter sentiment analysis model that helps to overcome the challenges of sentiment classification of tweets. We will be classifying the tweets into positive or negative sentiments. The necessary details regarding the dataset involving the Twitter sentiment analysis project are:\n",
    "    \n",
    "The dataset provided is the Sentiment140 Dataset which consists of 1,600,000 tweets that have been extracted using the Twitter API. The various columns present in this Twitter data are:\n",
    "\n",
    "target: the polarity of the tweet (positive or negative)\n",
    "    \n",
    "ids: Unique id of the tweet\n",
    "    \n",
    "date: the date of the tweet\n",
    "    \n",
    "flag: It refers to the query. If no such query exists, then it is NO QUERY.\n",
    "    \n",
    "user: It refers to the name of the user that tweeted\n",
    "    \n",
    "text: It refers to the text of the tweet"
   ]
  },
  {
   "cell_type": "markdown",
   "id": "216129ec",
   "metadata": {},
   "source": [
    "# Twitter Sentiment Analysis: Project Pipeline"
   ]
  },
  {
   "cell_type": "markdown",
   "id": "b9cb6f01",
   "metadata": {},
   "source": [
    "The various steps involved in the Machine Learning Pipeline are:\n",
    "\n",
    "Import Necessary Dependencies\n",
    "\n",
    "Read and Load the Dataset\n",
    "\n",
    "Exploratory Data Analysis\n",
    "\n",
    "Data Visualization of Target Variables\n",
    "\n",
    "Data Preprocessing\n",
    "\n",
    "Splitting our data into Train and Test sets.\n",
    "\n",
    "Transforming Dataset using TF-IDF Vectorizer\n",
    "\n",
    "Function for Model Evaluation\n",
    "\n",
    "Model Building\n",
    "\n",
    "Model Evaluation"
   ]
  },
  {
   "cell_type": "code",
   "execution_count": null,
   "id": "0e92251b",
   "metadata": {},
   "outputs": [],
   "source": []
  },
  {
   "cell_type": "markdown",
   "id": "cbc83276",
   "metadata": {},
   "source": [
    "# Frequently Asked Questions"
   ]
  },
  {
   "cell_type": "markdown",
   "id": "b0bd420f",
   "metadata": {},
   "source": [
    "Q1. What are the use cases of Sentimental Analysis models in the real world?\n",
    "\n",
    "A. Sentimental Analysis models are used in various industries for different purposes. Some examples are:\n",
    "\n",
    "1. Using these models, we can get people’s opinions on social media platforms or social networking sites regarding specific topics.\n",
    "2. Companies use these models to know the success or failure of their product by analyzing the sentiment of the product reviews and feedback from the people.\n",
    "3. Health industries use these models for the text analysis of patients’ feedback and improve their services based on that.\n",
    "4. We can also find new marketing trends and customer preferences using these models."
   ]
  },
  {
   "cell_type": "markdown",
   "id": "bbf2dadb",
   "metadata": {},
   "source": [
    "Q2. What are the steps for sentiment analysis of Twitter data in Python?\n",
    "\n",
    "A. Given below are the steps for implementing Sentiment Analysis of Twitter in Python:\n",
    "\n",
    "1. Firstly we will gather the required Tweets from Twitter.\n",
    "2. We will clean the data using different pre-processing techniques.\n",
    "3. After cleaning the data, we will create the sentimental analysis model using different machine learning algorithms.\n",
    "4. We will analyze our Twitter data using our sentiment analysis model on the basis of sentiment score, i.e., a positive, negative, or neutral tweet.\n",
    "5. Eventually, we will visualize the output from our model."
   ]
  },
  {
   "cell_type": "markdown",
   "id": "fec8c733",
   "metadata": {},
   "source": [
    "Q3. Which algorithm is used in Twitter sentiment analysis?\n",
    "\n",
    "A. Machine Learning algorithms like Naive Bayes, Logistic Regression, SVM, and deep learning algorithms like RNN can be used to create Twitter Sentiment Analysis."
   ]
  },
  {
   "cell_type": "code",
   "execution_count": null,
   "id": "5d3eb282",
   "metadata": {},
   "outputs": [],
   "source": []
  }
 ],
 "metadata": {
  "kernelspec": {
   "display_name": "Python 3 (ipykernel)",
   "language": "python",
   "name": "python3"
  },
  "language_info": {
   "codemirror_mode": {
    "name": "ipython",
    "version": 3
   },
   "file_extension": ".py",
   "mimetype": "text/x-python",
   "name": "python",
   "nbconvert_exporter": "python",
   "pygments_lexer": "ipython3",
   "version": "3.9.12"
  }
 },
 "nbformat": 4,
 "nbformat_minor": 5
}
